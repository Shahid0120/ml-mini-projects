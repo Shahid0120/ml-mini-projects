


import numpy as np 
import util 


class LinearModel(object):
    def init(self):

    def fit(self, x, y):

    def predict(self, x):






