{
 "cells": [
  {
   "cell_type": "markdown",
   "id": "5ee45817-4551-4e64-89ae-05f134a501b3",
   "metadata": {},
   "source": [
    "**Problem Set One**\n",
    "***Question One***\n",
    "Goal: Train a logistic classifier useing the optimisation algorithm : Newtons Methods. Train the Newtons Method until the eps = 1 x 10^-6"
   ]
  },
  {
   "cell_type": "code",
   "execution_count": 1,
   "id": "c687a150-3ba9-47f8-a988-10ae5695ec68",
   "metadata": {},
   "outputs": [
    {
     "ename": "ModuleNotFoundError",
     "evalue": "No module named 'numpy'",
     "output_type": "error",
     "traceback": [
      "\u001b[0;31m---------------------------------------------------------------------------\u001b[0m",
      "\u001b[0;31mModuleNotFoundError\u001b[0m                       Traceback (most recent call last)",
      "Cell \u001b[0;32mIn[1], line 1\u001b[0m\n\u001b[0;32m----> 1\u001b[0m \u001b[38;5;28;01mimport\u001b[39;00m \u001b[38;5;21;01mnumpy\u001b[39;00m \u001b[38;5;28;01mas\u001b[39;00m \u001b[38;5;21;01mnp\u001b[39;00m \n\u001b[1;32m      2\u001b[0m \u001b[38;5;28;01mimport\u001b[39;00m \u001b[38;5;21;01mutil\u001b[39;00m \n",
      "\u001b[0;31mModuleNotFoundError\u001b[0m: No module named 'numpy'"
     ]
    }
   ],
   "source": [
    "import numpy as np \n",
    "import util "
   ]
  },
  {
   "cell_type": "code",
   "execution_count": 2,
   "id": "7b53b2b7-24bd-4313-a145-1b50984e74b8",
   "metadata": {},
   "outputs": [
    {
     "ename": "IndentationError",
     "evalue": "expected an indented block after function definition on line 2 (2842035779.py, line 4)",
     "output_type": "error",
     "traceback": [
      "\u001b[0;36m  Cell \u001b[0;32mIn[2], line 4\u001b[0;36m\u001b[0m\n\u001b[0;31m    def fit(self, x, y):\u001b[0m\n\u001b[0m    ^\u001b[0m\n\u001b[0;31mIndentationError\u001b[0m\u001b[0;31m:\u001b[0m expected an indented block after function definition on line 2\n"
     ]
    }
   ],
   "source": [
    "class LinearModel(object):\n",
    "    def init(self):\n",
    "\n",
    "    def fit(self, x, y):\n",
    "\n",
    "    def predict(self, x):"
   ]
  },
  {
   "cell_type": "code",
   "execution_count": null,
   "id": "da5bd6a1-c8cd-4e9d-99d6-d9f928d0c023",
   "metadata": {},
   "outputs": [],
   "source": []
  },
  {
   "cell_type": "code",
   "execution_count": null,
   "id": "b48d9541-93ca-4de8-9a33-aa38d6aecd51",
   "metadata": {},
   "outputs": [],
   "source": []
  }
 ],
 "metadata": {
  "kernelspec": {
   "display_name": "Python 3 (ipykernel)",
   "language": "python",
   "name": "python3"
  },
  "language_info": {
   "codemirror_mode": {
    "name": "ipython",
    "version": 3
   },
   "file_extension": ".py",
   "mimetype": "text/x-python",
   "name": "python",
   "nbconvert_exporter": "python",
   "pygments_lexer": "ipython3",
   "version": "3.12.1"
  }
 },
 "nbformat": 4,
 "nbformat_minor": 5
}
