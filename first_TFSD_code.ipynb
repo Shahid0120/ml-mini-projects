{
  "nbformat": 4,
  "nbformat_minor": 0,
  "metadata": {
    "colab": {
      "provenance": [],
      "authorship_tag": "ABX9TyNBpMVZl5/hjBTkGkqGMrKC",
      "include_colab_link": true
    },
    "kernelspec": {
      "name": "python3",
      "display_name": "Python 3"
    },
    "language_info": {
      "name": "python"
    }
  },
  "cells": [
    {
      "cell_type": "markdown",
      "metadata": {
        "id": "view-in-github",
        "colab_type": "text"
      },
      "source": [
        "<a href=\"https://colab.research.google.com/github/Shahid0120/ml-mini-projects/blob/main/first_TFSD_code.ipynb\" target=\"_parent\"><img src=\"https://colab.research.google.com/assets/colab-badge.svg\" alt=\"Open In Colab\"/></a>"
      ]
    },
    {
      "cell_type": "markdown",
      "source": [
        ":Main goals is to create a ML program to model f = C * 1.8 + 32"
      ],
      "metadata": {
        "id": "oARGqznMfLqY"
      }
    },
    {
      "cell_type": "markdown",
      "source": [
        "Import packages"
      ],
      "metadata": {
        "id": "zO8wwvd5e4VR"
      }
    },
    {
      "cell_type": "code",
      "execution_count": null,
      "metadata": {
        "id": "fAXZqteBemA3"
      },
      "outputs": [],
      "source": [
        "import tensorflow as tf\n",
        "# tf.logging.set_verbosity(tf.logging.ERROR)\n",
        "import numpy as np"
      ]
    },
    {
      "cell_type": "markdown",
      "source": [
        "creating features and labels\n"
      ],
      "metadata": {
        "id": "EX2pKFYtfGFm"
      }
    },
    {
      "cell_type": "code",
      "source": [
        "celsius_q = np.array([-40,-10,0,8,15,22,38], dtype=float)\n",
        "fahrenheit_a = np.array([-40, 14, 32, 46, 59, 72, 100], dtype=float)\n",
        "\n",
        "for i,c in enumerate(celsius_q):\n",
        "  print(\"{} degree Celcisu = {} dgress Fahrenhet\".format(c , fahrenheit_a[i]))\n"
      ],
      "metadata": {
        "colab": {
          "base_uri": "https://localhost:8080/"
        },
        "id": "mXcwGLv3e9mJ",
        "outputId": "94e9a055-0eef-4799-c881-c5ebd80e1c1b"
      },
      "execution_count": null,
      "outputs": [
        {
          "output_type": "stream",
          "name": "stdout",
          "text": [
            "-40.0 degree Celcisu = -40.0 dgress Fahrenhet\n",
            "-10.0 degree Celcisu = 14.0 dgress Fahrenhet\n",
            "0.0 degree Celcisu = 32.0 dgress Fahrenhet\n",
            "8.0 degree Celcisu = 46.0 dgress Fahrenhet\n",
            "15.0 degree Celcisu = 59.0 dgress Fahrenhet\n",
            "22.0 degree Celcisu = 72.0 dgress Fahrenhet\n",
            "38.0 degree Celcisu = 100.0 dgress Fahrenhet\n"
          ]
        }
      ]
    },
    {
      "cell_type": "markdown",
      "source": [
        "Create the deep learning model\n"
      ],
      "metadata": {
        "id": "_C1A-9KBXGc4"
      }
    },
    {
      "cell_type": "code",
      "source": [
        "# first neural network layer\n",
        "l0 = tf.keras.layers.Dense(units=1, input_shape=[1])\n",
        "\n",
        "# assemble the layer\n",
        "model = tf.keras.Sequential([l0])\n",
        "\n",
        "# compile model with loss functio0n and optimiser functions\n",
        "model.compile(loss='mean_squared_error', optimizer=tf.keras.optimizers.Adam(0.1))\n",
        "\n",
        "# Train model\n",
        "history = model.fit(celsius_q, fahrenheit_a, epochs=500, verbose=False)\n",
        "print(\"Finished training the model\")\n",
        "\n",
        "# display training statistics\n",
        "plt.xlabel('Epoch Number')\n",
        "plt.ylabel(\"Loss Magnitude\")\n",
        "plt.plot(history.history['loss'])\n",
        "\n",
        "# use model to predict values\n",
        "print(model.predict([100.0]))\n",
        "\n",
        "# Wieghts of the layers\n",
        "print(\"These are the layer variables: {}\".format(l0.get_weights()))"
      ],
      "metadata": {
        "id": "tBXmy2y4XIzU"
      },
      "execution_count": null,
      "outputs": []
    }
  ]
}