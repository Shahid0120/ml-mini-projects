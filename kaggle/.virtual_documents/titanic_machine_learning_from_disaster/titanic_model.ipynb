


import numpy as np 
import sklearn as sk 
import tensorflow as tp
from tensorflow import keras
import pandas as pd
import os



