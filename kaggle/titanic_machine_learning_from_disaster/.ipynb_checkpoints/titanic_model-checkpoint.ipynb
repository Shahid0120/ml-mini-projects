{
 "cells": [
  {
   "cell_type": "markdown",
   "id": "87602d8a-148b-471b-9ce0-a95e3384c7ec",
   "metadata": {},
   "source": [
    "# Titanic Machine learning from Disasters\n",
    "the goal : what sorts of people were more likely to survive?” using passenger data (ie name, age, gender, socio-economic class, etc)?\n"
   ]
  }
 ],
 "metadata": {
  "kernelspec": {
   "display_name": "Python 3 (ipykernel)",
   "language": "python",
   "name": "python3"
  },
  "language_info": {
   "codemirror_mode": {
    "name": "ipython",
    "version": 3
   },
   "file_extension": ".py",
   "mimetype": "text/x-python",
   "name": "python",
   "nbconvert_exporter": "python",
   "pygments_lexer": "ipython3",
   "version": "3.12.1"
  }
 },
 "nbformat": 4,
 "nbformat_minor": 5
}
