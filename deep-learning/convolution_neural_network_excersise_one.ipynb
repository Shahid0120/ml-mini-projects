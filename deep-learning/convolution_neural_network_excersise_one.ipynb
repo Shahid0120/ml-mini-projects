{
 "cells": [
  {
   "cell_type": "markdown",
   "id": "d9860496",
   "metadata": {},
   "source": [
    "# Deep learning specialisation One week 1 : CNN"
   ]
  },
  {
   "cell_type": "code",
   "execution_count": 3,
   "id": "0c7b00a8",
   "metadata": {},
   "outputs": [],
   "source": [
    "import numpy as np \n",
    "import h5py\n",
    "import matplotlib.pyplot as plt\n",
    "from public_test import * \n",
    "\n",
    "plt.rcParams['figure.figsize'] = (5.0, 4.0)\n",
    "plt.rcParams['image.interpolation'] = 'nearest'\n",
    "plt.rcParams['image.cmap'] = 'gray'\n",
    "\n",
    "np.random.seed(1)"
   ]
  },
  {
   "cell_type": "code",
   "execution_count": 4,
   "id": "683f2d54",
   "metadata": {},
   "outputs": [],
   "source": [
    "# function adds padding to input \n",
    "def zero_pad(X, pad):\n",
    "    # X.shape = (m, n_h, n_W, n_c) \n",
    "    X_pad = np.pad(X, ((0,0), (pad, pad), (pad, pad), (0,0)), mode='constant', constant_values=(0,0))\n",
    "    return X_pad"
   ]
  },
  {
   "cell_type": "code",
   "execution_count": 9,
   "id": "73b6e381",
   "metadata": {},
   "outputs": [
    {
     "name": "stdout",
     "output_type": "stream",
     "text": [
      "x.shape\n",
      " (4, 3, 3, 2)\n",
      "x_pad.shape\n",
      " (4, 9, 9, 2)\n",
      "x[1,1] =\n",
      " [[ 0.90085595 -0.68372786]\n",
      " [-0.12289023 -0.93576943]\n",
      " [-0.26788808  0.53035547]]\n",
      "x_pad[1,1]\n",
      " [[0. 0.]\n",
      " [0. 0.]\n",
      " [0. 0.]\n",
      " [0. 0.]\n",
      " [0. 0.]\n",
      " [0. 0.]\n",
      " [0. 0.]\n",
      " [0. 0.]\n",
      " [0. 0.]]\n"
     ]
    },
    {
     "data": {
      "text/plain": [
       "<matplotlib.image.AxesImage at 0x117d81fd0>"
      ]
     },
     "execution_count": 9,
     "metadata": {},
     "output_type": "execute_result"
    },
    {
     "data": {
      "image/png": "[encoded data removed]",
      "text/plain": [
       "<Figure size 500x400 with 2 Axes>"
      ]
     },
     "metadata": {},
     "output_type": "display_data"
    }
   ],
   "source": [
    "# check if zero_pad works\n",
    "np.random.seed(1)\n",
    "x = np.random.randn(4,3,3,2)\n",
    "x_pad = zero_pad(x, 3)\n",
    "print(\"x.shape\\n\",x.shape)\n",
    "print(\"x_pad.shape\\n\", x_pad.shape)\n",
    "print(\"x[1,1] =\\n\", x[1,1])\n",
    "print(\"x_pad[1,1]\\n\", x_pad[1,1])\n",
    "\n",
    "fig, axarr = plt.subplots(1, 2)\n",
    "axarr[0].set_title('x')\n",
    "axarr[0].imshow(x[0, :, :, 0])\n",
    "axarr[1].set_title('x_pad')\n",
    "axarr[1].imshow(x_pad[0, :, :, 0])"
   ]
  },
  {
   "cell_type": "code",
   "execution_count": 10,
   "id": "c4c85299",
   "metadata": {},
   "outputs": [],
   "source": [
    "# Convolution with 1 Stride\n",
    "def conv_single_step(a_slice_prev, W, b):\n",
    "    # Arguments:\n",
    "    # a_slice_prev -- slice of input data of shape (f, f, n_C_prev)\n",
    "    # W -- Weight parameters contained in a window - matrix of shape (f, f, n_C_prev)\n",
    "    # b -- Bias parameters contained in a window - matrix of shape (1, 1, 1)\n",
    "    \n",
    "    # Elemnt wise price of a_prev and Weights\n",
    "    s = a_slice_prev * W\n",
    "    \n",
    "    # Sums over differenrt filters in the same position \n",
    "    Z = np.sum(s)\n",
    "    \n",
    "    # add the bias te\n",
    "    rm\n",
    "    Z = Z + float(b)\n",
    "    return Z"
   ]
  },
  {
   "cell_type": "code",
   "execution_count": 13,
   "id": "3392561c",
   "metadata": {},
   "outputs": [],
   "source": [
    "def conv_forward(A_prev, W, b, hparameters):\n",
    "    # looping over all inputs pixles to create output using filter \n",
    "    (m, n_H_prev, n_W_prev, n_C_prev) = A_prev.shape\n",
    "    (f, f, n_C_prev, n_C)  = W.shape\n",
    "    stride = hparameters[\"stride\"]\n",
    "    pad = hparameters[\"pad\"]\n",
    "    \n",
    "    # dimensions of CONV output\n",
    "    n_h = int((n_H_prev+(2*pad)-f)/stride)+1\n",
    "    n_w = int((n_W_prev+(2*pad)-f)/stride)+1\n",
    "    \n",
    "    # Output as Zeros\n",
    "    Z = np.zeros((m, n_h, n_w, n_C))\n",
    "    \n",
    "    # adding padding to input \n",
    "    A_prev_pad = zero_pad(A_prev, pad)\n",
    "    \n",
    "    # looping over all inputs pixles to create output using filter \n",
    "    for i in range(m):\n",
    "        a_prev_pad = A_prev_pad[i,:,:,:]\n",
    "        for h in range(n_h):\n",
    "            vert_start = h * stride\n",
    "            vert_end = vert_start + f\n",
    "            for w in range(n_w):\n",
    "                horiz_start = w * stride\n",
    "                horiz_end = horiz_start + f\n",
    "                # shifting channels\n",
    "                for c in range(n_C):\n",
    "                    a_slice_prev = a_prev_pad[vert_start:vert_end,horiz_start:horiz_end, :]\n",
    "                    weight = W[:, :, :, c]\n",
    "                    bias = b[:, :, :, c]\n",
    "                    Z[i, h, w, c] = conv_single_step(a_slice_prev, weight, bias)\n",
    "    \n",
    "    cache = (A_prev, W, b, hparameters)\n",
    "    \n",
    "    return Z, cache"
   ]
  },
  {
   "cell_type": "code",
   "execution_count": 17,
   "id": "57a439db",
   "metadata": {},
   "outputs": [],
   "source": [
    "def pool_forward(A_prev, hparameters, mode=\"max\"):\n",
    "    \n",
    "    # dimension of input \n",
    "    (m, n_h_prev, n_W_prev, n_C_prev) = A_prev.shape\n",
    "    \n",
    "    # dimension of filter/stride\n",
    "    f = hparamters[\"f\"]\n",
    "    stride = hparameters[\"stride\"]\n",
    "    \n",
    "    # dimension of output \n",
    "    n_H = int(1 + (n_H_prev - f) / stride)\n",
    "    n_W = int(1 + (n_W_prev - f) / stride)\n",
    "    n_C = n_C_prev\n",
    "    \n",
    "    # initialise output matrix\n",
    "    A = np.zeros((m, n_H, n_W, n_C)) \n",
    "    \n",
    "    # implementing pooling\n",
    "    for i in range(m):\n",
    "        for h in range(n_H):\n",
    "            vert_start = h * stride \n",
    "            vert_end = vert_start + f\n",
    "            for w in range(n_W):\n",
    "                horiz_start = w * stride \n",
    "                horiz_end = horiz_start + f\n",
    "                for c in range(n_C):\n",
    "                    a_prev_slice = A_prev[i,vert_start:vert_end, horiz_start:horiz_end,c]\n",
    "                    if mode == \"max\":\n",
    "                        A[i, h, w, c] = np.max(a_prev_slice)\n",
    "                    elif mode ==\"average\":\n",
    "                        A[i, h, w, c] = np.mean(a_prev_slice)\n",
    "                        \n",
    "    cache = (A_prev, hparameters)\n",
    "    \n",
    "    return A, cache"
   ]
  },
  {
   "cell_type": "code",
   "execution_count": 18,
   "id": "e15bc68e",
   "metadata": {},
   "outputs": [
    {
     "ename": "SyntaxError",
     "evalue": "'(' was never closed (536544655.py, line 39)",
     "output_type": "error",
     "traceback": [
      "\u001b[0;36m  Cell \u001b[0;32mIn[18], line 39\u001b[0;36m\u001b[0m\n\u001b[0;31m    assert(dA_prev.shape == (m, n_H_prev, n_W_prev, n_C_prev)\u001b[0m\n\u001b[0m          ^\u001b[0m\n\u001b[0;31mSyntaxError\u001b[0m\u001b[0;31m:\u001b[0m '(' was never closed\n"
     ]
    }
   ],
   "source": [
    "def conv_backward(dZ, cache):\n",
    "    \n",
    "    assert(dA_prev.shape) == (m, n_H_prev, n_W_prev, n_C_prev)\n",
    "    return dA_prev, dW, db"
   ]
  },
  {
   "cell_type": "code",
   "execution_count": null,
   "id": "06b4f079",
   "metadata": {},
   "outputs": [],
   "source": []
  },
  {
   "cell_type": "code",
   "execution_count": null,
   "id": "aab81b37",
   "metadata": {},
   "outputs": [],
   "source": []
  }
 ],
 "metadata": {
  "kernelspec": {
   "display_name": "Python 3 (ipykernel)",
   "language": "python",
   "name": "python3"
  },
  "language_info": {
   "codemirror_mode": {
    "name": "ipython",
    "version": 3
   },
   "file_extension": ".py",
   "mimetype": "text/x-python",
   "name": "python",
   "nbconvert_exporter": "python",
   "pygments_lexer": "ipython3",
   "version": "3.11.5"
  }
 },
 "nbformat": 4,
 "nbformat_minor": 5
}
