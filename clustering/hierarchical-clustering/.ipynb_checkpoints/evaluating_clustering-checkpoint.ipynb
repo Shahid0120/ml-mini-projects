{
 "cells": [
  {
   "cell_type": "markdown",
   "id": "c1074aa6-24bb-41b9-8403-841998b7b535",
   "metadata": {},
   "source": [
    "# This notebook is going to focus on evaluation method for cluster!"
   ]
  },
  {
   "cell_type": "code",
   "execution_count": 3,
   "id": "ddc731ea-6f19-4478-ae51-460d39f16f9c",
   "metadata": {},
   "outputs": [
    {
     "data": {
      "text/html": [
       "<div>\n",
       "<style scoped>\n",
       "    .dataframe tbody tr th:only-of-type {\n",
       "        vertical-align: middle;\n",
       "    }\n",
       "\n",
       "    .dataframe tbody tr th {\n",
       "        vertical-align: top;\n",
       "    }\n",
       "\n",
       "    .dataframe thead th {\n",
       "        text-align: right;\n",
       "    }\n",
       "</style>\n",
       "<table border=\"1\" class=\"dataframe\">\n",
       "  <thead>\n",
       "    <tr style=\"text-align: right;\">\n",
       "      <th>Class</th>\n",
       "      <th>Female</th>\n",
       "      <th>Male</th>\n",
       "    </tr>\n",
       "    <tr>\n",
       "      <th>Clusters</th>\n",
       "      <th></th>\n",
       "      <th></th>\n",
       "    </tr>\n",
       "  </thead>\n",
       "  <tbody>\n",
       "    <tr>\n",
       "      <th>V_1</th>\n",
       "      <td>0</td>\n",
       "      <td>1</td>\n",
       "    </tr>\n",
       "    <tr>\n",
       "      <th>V_2</th>\n",
       "      <td>1</td>\n",
       "      <td>0</td>\n",
       "    </tr>\n",
       "    <tr>\n",
       "      <th>V_3</th>\n",
       "      <td>0</td>\n",
       "      <td>1</td>\n",
       "    </tr>\n",
       "  </tbody>\n",
       "</table>\n",
       "</div>"
      ],
      "text/plain": [
       "Class     Female  Male\n",
       "Clusters              \n",
       "V_1            0     1\n",
       "V_2            1     0\n",
       "V_3            0     1"
      ]
     },
     "execution_count": 3,
     "metadata": {},
     "output_type": "execute_result"
    }
   ],
   "source": [
    "# creating a sample contigency table \n",
    "import pandas as pd\n",
    "\n",
    "data = {\n",
    "    'Class': ['Male', 'Female', 'Male'],\n",
    "    'Clusters' : ['V_1', 'V_2', 'V_3']\n",
    "}\n",
    "\n",
    "df = pd.DataFrame(data)\n",
    "\n",
    "contigency_table = pd.crosstab(df['Clusters'],df['Class'])\n",
    "\n",
    "contigency_table"
   ]
  },
  {
   "cell_type": "code",
   "execution_count": 4,
   "id": "681983dc-2155-45aa-84fe-b0a518492e11",
   "metadata": {},
   "outputs": [
    {
     "ename": "NameError",
     "evalue": "name 'data_a' is not defined",
     "output_type": "error",
     "traceback": [
      "\u001b[0;31m---------------------------------------------------------------------------\u001b[0m",
      "\u001b[0;31mNameError\u001b[0m                                 Traceback (most recent call last)",
      "Cell \u001b[0;32mIn[4], line 2\u001b[0m\n\u001b[1;32m      1\u001b[0m \u001b[38;5;66;03m# Create a DataFrame\u001b[39;00m\n\u001b[0;32m----> 2\u001b[0m df \u001b[38;5;241m=\u001b[39m pd\u001b[38;5;241m.\u001b[39mDataFrame({\u001b[38;5;124m'\u001b[39m\u001b[38;5;124mMethod_A\u001b[39m\u001b[38;5;124m'\u001b[39m: data_a, \u001b[38;5;124m'\u001b[39m\u001b[38;5;124mMethod_B\u001b[39m\u001b[38;5;124m'\u001b[39m: data_b})\n\u001b[1;32m      4\u001b[0m \u001b[38;5;66;03m# Create the mismatch matrix using crosstab\u001b[39;00m\n\u001b[1;32m      5\u001b[0m mismatch_matrix \u001b[38;5;241m=\u001b[39m pd\u001b[38;5;241m.\u001b[39mcrosstab(df[\u001b[38;5;124m'\u001b[39m\u001b[38;5;124mMethod_A\u001b[39m\u001b[38;5;124m'\u001b[39m], df[\u001b[38;5;124m'\u001b[39m\u001b[38;5;124mMethod_B\u001b[39m\u001b[38;5;124m'\u001b[39m])\n",
      "\u001b[0;31mNameError\u001b[0m: name 'data_a' is not defined"
     ]
    }
   ],
   "source": [
    "# Create a DataFrame\n",
    "df = pd.DataFrame({'Method_A': data_a, 'Method_B': data_b})\n",
    "\n",
    "# Create the mismatch matrix using crosstab\n",
    "mismatch_matrix = pd.crosstab(df['Method_A'], df['Method_B'])\n",
    "\n",
    "# Display the mismatch matrix\n",
    "print(mismatch_matrix)"
   ]
  },
  {
   "cell_type": "code",
   "execution_count": 8,
   "id": "eb0cccc1-0cf5-4f23-8109-0a80c25e4bc0",
   "metadata": {},
   "outputs": [
    {
     "name": "stdout",
     "output_type": "stream",
     "text": [
      "[1, 0]\n",
      "[1, 1]\n"
     ]
    }
   ],
   "source": [
    "# Define the values\n",
    "TP = 1  # True Positive\n",
    "FP = 1  # False Positive\n",
    "TN = 1  # True Negative\n",
    "FN = 0  # False Negative\n",
    "\n",
    "# Create a nested list for the contingency table\n",
    "contingency_table = [\n",
    "    [TP, FN],  # Actual Positive\n",
    "    [FP, TN]   # Actual Negative\n",
    "]con\n",
    "\n",
    "# Print the contingency table\n",
    "for row in contingency_table:\n",
    "    print(row)"
   ]
  },
  {
   "cell_type": "code",
   "execution_count": 28,
   "id": "91d369c3-0598-4c70-9192-736e74ad4796",
   "metadata": {},
   "outputs": [
    {
     "data": {
      "image/png": "[encoded data removed]",
      "text/plain": [
       "<Figure size 640x480 with 1 Axes>"
      ]
     },
     "metadata": {},
     "output_type": "display_data"
    }
   ],
   "source": [
    "# Cluster Cohesion \n",
    "import numpy as np\n",
    "import matplotlib.pyplot as plt\n",
    "from matplotlib.patches import Ellipse \n",
    "\n",
    "fig, ax = plt.subplots()\n",
    "\n",
    "# cluster 1 points\n",
    "x_one = [2,3,4,6,8,5,2]\n",
    "y_one = [2,4,2,6,3,7,3]\n",
    "ax.scatter(x_one, y_one)\n",
    "\n",
    "x_two = [15,15.5,16]\n",
    "y_two = [6,6.5,7]\n",
    "ax.scatter(x_two, y_two)\n",
    "\n",
    "ellipse1 = Ellipse((5,5), width=10, height=10, angle=0, color='red', fill=False)\n",
    "ax.add_patch(ellipse1)\n",
    "\n",
    "\n",
    "ellipse1 = Ellipse((15.5, 6.5), width=2, height=2, angle=0, color='purple', fill=False)\n",
    "ax.add_patch(ellipse1)\n",
    "\n",
    "# add line first cluster \n",
    "x_one = [0, 10]\n",
    "y_one = [5,5]\n",
    "ax.plot(x_one, y_one, color='black')\n",
    "\n",
    "# add line two distacne of second cluster \n",
    "x_two = [14.5,16.5]\n",
    "y_two = [6.5,6.5]\n",
    "ax.plot(x_two, y_two, color='green')\n",
    "plt.show()"
   ]
  }
 ],
 "metadata": {
  "kernelspec": {
   "display_name": "Python 3 (ipykernel)",
   "language": "python",
   "name": "python3"
  },
  "language_info": {
   "codemirror_mode": {
    "name": "ipython",
    "version": 3
   },
   "file_extension": ".py",
   "mimetype": "text/x-python",
   "name": "python",
   "nbconvert_exporter": "python",
   "pygments_lexer": "ipython3",
   "version": "3.11.5"
  }
 },
 "nbformat": 4,
 "nbformat_minor": 5
}
