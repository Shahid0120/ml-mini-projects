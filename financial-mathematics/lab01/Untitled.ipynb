{
 "cells": [
  {
   "cell_type": "markdown",
   "id": "056a4f6c-0791-4bf4-a9a6-11e2576ce2a0",
   "metadata": {},
   "source": [
    "# Lab01\n",
    "Financial Mathematics"
   ]
  },
  {
   "cell_type": "code",
   "execution_count": 47,
   "id": "23d4fd04-1ecb-4e57-9eaa-b8ad57ef44c6",
   "metadata": {},
   "outputs": [
    {
     "data": {
      "text/plain": [
       "8.0131092009458"
      ]
     },
     "execution_count": 47,
     "metadata": {},
     "output_type": "execute_result"
    }
   ],
   "source": [
    "# Question 2 \n",
    "import numpy\n",
    "from numpy import log,pi,exp\n",
    "x = log(pi ** 7)\n",
    "x"
   ]
  },
  {
   "cell_type": "code",
   "execution_count": 48,
   "id": "7f516078-f2a5-4ab7-8d2b-7078191c0347",
   "metadata": {},
   "outputs": [
    {
     "name": "stdout",
     "output_type": "stream",
     "text": [
      "False\n"
     ]
    }
   ],
   "source": [
    "print(pi ** 7 == exp(log(pi ** 7)))"
   ]
  },
  {
   "cell_type": "code",
   "execution_count": 49,
   "id": "26bfdb5c-a177-45e8-b820-b86d051b4988",
   "metadata": {},
   "outputs": [
    {
     "data": {
      "text/plain": [
       "1.3642420526593924e-12"
      ]
     },
     "execution_count": 49,
     "metadata": {},
     "output_type": "execute_result"
    }
   ],
   "source": [
    "abs_x = abs(pi ** 7 - exp(log(pi ** 7)))\n",
    "abs_x"
   ]
  },
  {
   "cell_type": "code",
   "execution_count": 51,
   "id": "e0ece6a7-c51c-43d7-b574-85aa2a9513c4",
   "metadata": {},
   "outputs": [
    {
     "name": "stdout",
     "output_type": "stream",
     "text": [
      "absolute erorr in single point 1.6263032587282567e-19\n",
      "absolute erorr in double point 1.6263032587282567e-19\n"
     ]
    }
   ],
   "source": [
    "from numpy import finfo, float32, float64\n",
    "abs_sp = np.finfo(float32).eps\n",
    "abs_dp = np.finfo(float32).eps\n",
    "print(f\"absolute erorr in single point {abs_x * abs_sp}\")\n",
    "print(f\"absolute erorr in double point {abs_x * abs_dp}\")"
   ]
  },
  {
   "cell_type": "code",
   "execution_count": 114,
   "id": "0dafda8a-c572-4dbd-b9b5-280103a5639f",
   "metadata": {},
   "outputs": [
    {
     "name": "stdout",
     "output_type": "stream",
     "text": [
      "(a) f(k) = 0 for all k.\n"
     ]
    },
    {
     "data": {
      "text/plain": [
       "Text(0.5, 0, 'k')"
      ]
     },
     "execution_count": 114,
     "metadata": {},
     "output_type": "execute_result"
    },
    {
     "data": {
      "image/png": "[encoded data removed]",
      "text/plain": [
       "<Figure size 640x480 with 1 Axes>"
      ]
     },
     "metadata": {},
     "output_type": "display_data"
    }
   ],
   "source": [
    "from numpy import arange, sin, pi\n",
    "import matplotlib.pyplot as plt\n",
    "\n",
    "print('(a) f(k) = 0 for all k.')\n",
    "x = np.arange(10)\n",
    "y = sin(pi * x)\n",
    "plt.plot(x, y, 'o')\n",
    "plt.grid(True)\n",
    "plt.xlabel('k')\n"
   ]
  },
  {
   "cell_type": "markdown",
   "id": "a0fa542b-389b-4503-8ca2-fe154404ce92",
   "metadata": {},
   "source": [
    "##### Question 5"
   ]
  },
  {
   "cell_type": "code",
   "execution_count": 130,
   "id": "7ffa0acf-e826-47a3-8ea5-bc507e789f2c",
   "metadata": {},
   "outputs": [
    {
     "data": {
      "text/plain": [
       "1024"
      ]
     },
     "execution_count": 130,
     "metadata": {},
     "output_type": "execute_result"
    }
   ],
   "source": [
    "from numpy import finfo, exp\n",
    "db = np.finfo(np.float64).max\n",
    "a = log(\n"
   ]
  }
 ],
 "metadata": {
  "kernelspec": {
   "display_name": "Python 3 (ipykernel)",
   "language": "python",
   "name": "python3"
  },
  "language_info": {
   "codemirror_mode": {
    "name": "ipython",
    "version": 3
   },
   "file_extension": ".py",
   "mimetype": "text/x-python",
   "name": "python",
   "nbconvert_exporter": "python",
   "pygments_lexer": "ipython3",
   "version": "3.11.5"
  }
 },
 "nbformat": 4,
 "nbformat_minor": 5
}
