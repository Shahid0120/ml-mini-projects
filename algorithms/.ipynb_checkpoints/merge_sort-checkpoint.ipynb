{
 "cells": [
  {
   "cell_type": "code",
   "execution_count": null,
   "id": "e5d1c0d8",
   "metadata": {},
   "outputs": [],
   "source": [
    "# Merge Sort"
   ]
  },
  {
   "cell_type": "code",
   "execution_count": null,
   "id": "1e473ece",
   "metadata": {},
   "outputs": [],
   "source": [
    "#pseudocode\n",
    "\n",
    "# function which inputs array, numbers of divisions and sort\n",
    "# function divides arr into number of divisions specifided\n",
    "# calls another functiopn merge which comparese dvidied arrays and then puts them into a monotocniallyu increasing sequences and then merges two arrays\n",
    "# continues loop until we get the original size\n",
    "\n",
    "class merge:\n",
    "    \n",
    "    def __int__(self, arr, number_of_divisions, sorted_array, sorted_merged_array):\n",
    "        self.arr = arr\n",
    "        self.number_of_divisions = number_of_divisions\n",
    "        self.sorted_array = sorted_array\n",
    "        self.sorted_merged_array = sorted_merged_array\n",
    "        \n",
    "    def merge_sort(arr, number_of_divisions):\n",
    "        divided array = merge_divide(arr, number_of_divisions)\n",
    "\n",
    "        return sorted_array \n",
    "    \n",
    "    def merge_divide(arr, number_of divisions : int):\n",
    "        \n",
    "        if len(arr) % number_of_divisions != 0:\n",
    "            number_of_divisions = number_of_divisions + 1\n",
    "            \n",
    "        divided_array = []\n",
    "        while divs > 0:\n",
    "            \n",
    "            \n",
    "            \n",
    "            div -= 1 \n",
    "        return divided_array \n",
    "    \n",
    "    def merge(arr, arr2) :\n",
    "        \n",
    "        return sorted_merged_array \n"
   ]
  },
  {
   "cell_type": "code",
   "execution_count": 3,
   "id": "e52e3730",
   "metadata": {},
   "outputs": [
    {
     "ename": "SyntaxError",
     "evalue": "invalid syntax (3922534371.py, line 7)",
     "output_type": "error",
     "traceback": [
      "\u001b[0;36m  Cell \u001b[0;32mIn[3], line 7\u001b[0;36m\u001b[0m\n\u001b[0;31m    raise ValueError(*)\u001b[0m\n\u001b[0m                      ^\u001b[0m\n\u001b[0;31mSyntaxError\u001b[0m\u001b[0;31m:\u001b[0m invalid syntax\n"
     ]
    }
   ],
   "source": [
    "X = [3, 41, 52, 26, 38, 57, 9, 49]\n",
    "\n",
    "def value_finder(arr):\n",
    "    if len(arr) < 1:\n",
    "         raise ValueError(\"This doesn't contain any values\")\n",
    "    elif len(arr) == 1:\n",
    "        raise ValueError(\"This is already sorted\")\n",
    "    \n",
    "    first_index = arr[0]\n",
    "    last_index = arr[len(arr) - 1]\n",
    "    \n",
    "    if len(arr) % 2 == 0:\n",
    "        middle_value = arr[(len(arr) - 1)/ 2]\n",
    "    else:    \n",
    "        middle = arr[len(arr)/ 2]\n",
    "    \n",
    "    return first_index, last_index, middle_value\n",
    "    \n",
    "def merge_sort(arr, first_index : int, last_index : int):\n",
    "    \n",
    "    if high_value >= lowest_value:\n",
    "        return \n",
    "    \n",
    "def merge(A, first_index: int, middle_value: int, last_index: int): \n",
    "    \n",
    "    return \n"
   ]
  },
  {
   "cell_type": "code",
   "execution_count": 5,
   "id": "35233e55",
   "metadata": {},
   "outputs": [
    {
     "name": "stdout",
     "output_type": "stream",
     "text": [
      "Given array is\n",
      "12 11 13 5 6 7 10 \n",
      "\n",
      "Sorted array is \n",
      "5 6 7 10 11 12 13 \n"
     ]
    }
   ],
   "source": [
    "def mergeSort(arr):\n",
    "    if len(arr) > 1:\n",
    " \n",
    "         # Finding the mid of the array\n",
    "        mid = len(arr)// 2\n",
    " \n",
    "        # Dividing the array elements\n",
    "        L = arr[:mid]\n",
    " \n",
    "        # Into 2 halves\n",
    "        R = arr[mid:]\n",
    " \n",
    "        # Sorting the first half\n",
    "        mergeSort(L)\n",
    " \n",
    "        # Sorting the second half\n",
    "        mergeSort(R)\n",
    " \n",
    "        i = j = k = 0\n",
    " \n",
    "        # Copy data to temp arrays L[] and R[]\n",
    "        while i < len(L) and j < len(R):\n",
    "            if L[i] <= R[j]:\n",
    "                arr[k] = L[i]\n",
    "                i += 1\n",
    "            else:\n",
    "                arr[k] = R[j]\n",
    "                j += 1\n",
    "            k += 1\n",
    " \n",
    "        # Checking if any element was left\n",
    "        while i < len(L):\n",
    "            arr[k] = L[i]\n",
    "            i += 1\n",
    "            k += 1\n",
    " \n",
    "        while j < len(R):\n",
    "            arr[k] = R[j]\n",
    "            j += 1\n",
    "            k += 1\n",
    " \n",
    " \n",
    "# Code to print the list\n",
    "def printList(arr):\n",
    "    for i in range(len(arr)):\n",
    "        print(arr[i], end=\" \")\n",
    "    print()\n",
    " \n",
    " \n",
    "# Driver Code\n",
    "if __name__ == '__main__':\n",
    "    arr = [12, 11, 13, 5, 6, 7, 10]\n",
    "    print(\"Given array is\")\n",
    "    printList(arr)\n",
    "    mergeSort(arr)\n",
    "    print(\"\\nSorted array is \")\n",
    "    printList(arr)\n"
   ]
  },
  {
   "cell_type": "code",
   "execution_count": null,
   "id": "36d6bb0e",
   "metadata": {},
   "outputs": [],
   "source": []
  }
 ],
 "metadata": {
  "kernelspec": {
   "display_name": "Python 3 (ipykernel)",
   "language": "python",
   "name": "python3"
  },
  "language_info": {
   "codemirror_mode": {
    "name": "ipython",
    "version": 3
   },
   "file_extension": ".py",
   "mimetype": "text/x-python",
   "name": "python",
   "nbconvert_exporter": "python",
   "pygments_lexer": "ipython3",
   "version": "3.11.5"
  }
 },
 "nbformat": 4,
 "nbformat_minor": 5
}
