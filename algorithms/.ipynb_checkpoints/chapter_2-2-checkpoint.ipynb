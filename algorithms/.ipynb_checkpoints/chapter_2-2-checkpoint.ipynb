{
 "cells": [
  {
   "cell_type": "markdown",
   "id": "53e41c39",
   "metadata": {},
   "source": [
    "# Chapter 2.2 \n",
    "\n",
    "## 2.2-1\n",
    " θ (n^3)\n",
    "## 2.2-2\n",
    "\n",
    "Selection sort pseudocode\n",
    "\n",
    "#loop the array from index 0 to length of array\n",
    "#store the ith value\n",
    "#loop sub array from all index infront of ith array \n",
    "#find smallest element in subarray \n",
    "#swap the ith array number and the smallest current element in subaarray \n",
    "\n",
    "What loop invariant does this algorithm maintain? \n",
    "\n",
    "\n",
    "Why does it need to run for only the n - 1 elements, rather than for all elements?\n",
    "since the last element by defintiion will already be the largest element\n",
    "\n",
    "Give the worst-case running time of selection sort in -notation. Is the best-case running time any better?\n",
    "T(n) = n^2 / 2 = θ (n^2)\n",
    "\n",
    "## 2.2-3\n",
    "\n",
    "Consider linear search again (see Exercise 2.1-4). How many elements of the input array need to be checked on the average, assuming that the element being searched for is equally likely to be any element in the array? How about in the worst case?\n",
    "\n",
    "Consaider that when search an array of lenght n for x or nil could appear one the first,second,...n-1 index then asdsuming no bias the probability are all the same therfore on average u have to n/2 \n",
    "\n",
    "the worst it that the values isnt there then u have θ (n)\n",
    "\n",
    "## 2.2-4\n",
    "How can you modify any sorting algorithm to have a good best-case running time?\n",
    "\n",
    "(1) dont have a loop -> check each value to see if it matches independently -> O(1) time.\n",
    "\n"
   ]
  }
 ],
 "metadata": {
  "kernelspec": {
   "display_name": "Python 3 (ipykernel)",
   "language": "python",
   "name": "python3"
  },
  "language_info": {
   "codemirror_mode": {
    "name": "ipython",
    "version": 3
   },
   "file_extension": ".py",
   "mimetype": "text/x-python",
   "name": "python",
   "nbconvert_exporter": "python",
   "pygments_lexer": "ipython3",
   "version": "3.11.5"
  }
 },
 "nbformat": 4,
 "nbformat_minor": 5
}
