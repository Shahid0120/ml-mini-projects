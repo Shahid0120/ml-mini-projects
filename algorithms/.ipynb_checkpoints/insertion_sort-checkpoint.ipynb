{
 "cells": [
  {
   "cell_type": "markdown",
   "id": "9eabab8d",
   "metadata": {},
   "source": [
    "# Insertion Sort "
   ]
  },
  {
   "cell_type": "code",
   "execution_count": 59,
   "id": "894838ee",
   "metadata": {},
   "outputs": [],
   "source": [
    "import numpy as np \n",
    "import random\n",
    "\n",
    "unordered_set = np.random.rand(20)"
   ]
  },
  {
   "cell_type": "code",
   "execution_count": 60,
   "id": "194dd5d0",
   "metadata": {},
   "outputs": [
    {
     "name": "stdout",
     "output_type": "stream",
     "text": [
      "[0.04354543 0.97397932 0.98252136 0.56703504 0.63206836 0.09061355\n",
      " 0.86500641 0.89153116 0.7114017  0.36049516 0.56642742 0.54935158\n",
      " 0.07836136 0.80641017 0.05464364 0.86688058 0.12821069 0.30317401\n",
      " 0.96635812 0.46252597]\n"
     ]
    }
   ],
   "source": [
    "print(unordered_set)"
   ]
  },
  {
   "cell_type": "code",
   "execution_count": 61,
   "id": "c224e37a",
   "metadata": {},
   "outputs": [],
   "source": [
    "for i in range(2, len(unordered_set)):\n",
    "    key = unordered_set[i]\n",
    "    j = i - 1\n",
    "    while j > 0 and unordered_set[j] > key:\n",
    "        unordered_set[j+1] = unordered_set[j]\n",
    "        j = j - 1\n",
    "        unordered_set[j+1] = key "
   ]
  },
  {
   "cell_type": "code",
   "execution_count": 62,
   "id": "7cfb3b47",
   "metadata": {},
   "outputs": [
    {
     "name": "stdout",
     "output_type": "stream",
     "text": [
      "[0.04354543 0.05464364 0.07836136 0.09061355 0.12821069 0.30317401\n",
      " 0.36049516 0.46252597 0.54935158 0.56642742 0.56703504 0.63206836\n",
      " 0.7114017  0.80641017 0.86500641 0.86688058 0.89153116 0.96635812\n",
      " 0.97397932 0.98252136]\n"
     ]
    }
   ],
   "source": [
    "print(unordered_set)"
   ]
  },
  {
   "cell_type": "code",
   "execution_count": 63,
   "id": "a6f428b9",
   "metadata": {},
   "outputs": [
    {
     "name": "stdout",
     "output_type": "stream",
     "text": [
      "0.07836135510142839\n"
     ]
    }
   ],
   "source": [
    "print(unordered_set[2])"
   ]
  },
  {
   "cell_type": "markdown",
   "id": "1b96627d",
   "metadata": {},
   "source": [
    "How does it work?\n",
    "We are start from i = 2 then looping until all the vaslues on thew left a smaller then the key usiong the j while loop. Once our value is smaller we move the right then start again. This is a iterative process until we find the reight value!\n",
    "\n",
    "Thinking interms of hands!\n",
    "i is the current hanbd"
   ]
  },
  {
   "cell_type": "code",
   "execution_count": 66,
   "id": "e0fc2efe",
   "metadata": {},
   "outputs": [
    {
     "name": "stdout",
     "output_type": "stream",
     "text": [
      "[31, 29, 41, 59, 58, 41]\n"
     ]
    }
   ],
   "source": [
    "# excersise 2.1-1\n",
    "X = [31,41,59,29,41,58]\n",
    "\n",
    "for i in range(2, len(X)):\n",
    "    key = X[i]\n",
    "    j = i - 1\n",
    "    while j > 0 and X[j-1] > key:\n",
    "        X[j+1] = X[j]\n",
    "        j = j - 1\n",
    "        X[j+1] = key\n",
    "\n",
    "print(X)   "
   ]
  },
  {
   "cell_type": "markdown",
   "id": "21bb347a",
   "metadata": {},
   "source": [
    "# Excersie 2.-12\n",
    "computer a sum of A of state the loop variant\n",
    "for loop variance\n",
    "# step 1 - Initialisation - truth befortre there start of first interation \n",
    "whewn the array consisyt of one or no elemnt shtnen  this loops works since it will return sum = 0 if the asrray has no indexed or sum only X[0] if thge array is only one element\n",
    "# step 2 - Maintenance - does it hold for every iteration\n",
    "given the chnages does this sum hoild now for each iteration? Yes the sim goes from A[1], A[2], ....., A[n] and treturns a sum \n",
    "# step 3 - termination of the loop\n",
    "so once the loop reachs the nth number which would be the lemnght of the array len(A) = A[n] then it add the last inde xt he sum and terminals the loop\n",
    "\n"
   ]
  },
  {
   "cell_type": "code",
   "execution_count": 69,
   "id": "c9681c93",
   "metadata": {},
   "outputs": [
    {
     "ename": "IndexError",
     "evalue": "list index out of range",
     "output_type": "error",
     "traceback": [
      "\u001b[0;31m---------------------------------------------------------------------------\u001b[0m",
      "\u001b[0;31mIndexError\u001b[0m                                Traceback (most recent call last)",
      "Cell \u001b[0;32mIn[69], line 2\u001b[0m\n\u001b[1;32m      1\u001b[0m X \u001b[38;5;241m=\u001b[39m []\n\u001b[0;32m----> 2\u001b[0m \u001b[38;5;28msum\u001b[39m \u001b[38;5;241m=\u001b[39m X[\u001b[38;5;241m0\u001b[39m]\n\u001b[1;32m      3\u001b[0m \u001b[38;5;28;01mfor\u001b[39;00m i \u001b[38;5;129;01min\u001b[39;00m \u001b[38;5;28mrange\u001b[39m(\u001b[38;5;241m0\u001b[39m, \u001b[38;5;28mlen\u001b[39m(X)):\n\u001b[1;32m      4\u001b[0m     \u001b[38;5;28msum\u001b[39m \u001b[38;5;241m=\u001b[39m \u001b[38;5;28msum\u001b[39m \u001b[38;5;241m+\u001b[39m X[i]\n",
      "\u001b[0;31mIndexError\u001b[0m: list index out of range"
     ]
    }
   ],
   "source": [
    "X = []\n",
    "sum = 0\n",
    "for i in range(0, len(X)):\n",
    "    sum = sum + X[i]\n",
    "print(sum)"
   ]
  },
  {
   "cell_type": "code",
   "execution_count": 81,
   "id": "830e1d87",
   "metadata": {},
   "outputs": [
    {
     "name": "stdout",
     "output_type": "stream",
     "text": [
      "10\n"
     ]
    }
   ],
   "source": [
    "# Excersies 2.1-3\n",
    "X = [1,2,3,4]\n",
    "sum = 0\n",
    "i = len(X) \n",
    "while i > 0:\n",
    "    sum = sum + X[i - 1]\n",
    "    i -= 1\n",
    "\n",
    "print(sum)"
   ]
  },
  {
   "cell_type": "markdown",
   "id": "2116a73b",
   "metadata": {},
   "source": [
    "# Excersies 2.1-4\n",
    "# pseudocode \n",
    "1. loop all array\n",
    "2. check to see if current index equals null or x\n",
    "    3. if it doens stop loop and call it doesnt appear\n",
    "    4. creating holding variable\n",
    "3. check if statement holding variable is true if not then print \"it doesnt exist\"\n"
   ]
  },
  {
   "cell_type": "code",
   "execution_count": null,
   "id": "310ad249",
   "metadata": {},
   "outputs": [],
   "source": []
  }
 ],
 "metadata": {
  "kernelspec": {
   "display_name": "Python 3 (ipykernel)",
   "language": "python",
   "name": "python3"
  },
  "language_info": {
   "codemirror_mode": {
    "name": "ipython",
    "version": 3
   },
   "file_extension": ".py",
   "mimetype": "text/x-python",
   "name": "python",
   "nbconvert_exporter": "python",
   "pygments_lexer": "ipython3",
   "version": "3.11.5"
  }
 },
 "nbformat": 4,
 "nbformat_minor": 5
}
