{
 "cells": [
  {
   "cell_type": "code",
   "execution_count": 30,
   "id": "841fc2a1-469c-49a8-8d3d-a2b6760c8f60",
   "metadata": {
    "tags": []
   },
   "outputs": [
    {
     "name": "stdout",
     "output_type": "stream",
     "text": [
      "None\n"
     ]
    }
   ],
   "source": [
    "\n",
    "def merge(num1, m, nums2, n):\n",
    "    num2_index = 0 \n",
    "    index = 0\n",
    "\n",
    "    while num2_index < n:\n",
    "        if index < m and nums1[index] <= nums2[num2_index]:\n",
    "            index += 1\n",
    "        else:\n",
    "            last_index = len(nums1)\n",
    "            nums1.insert(index, nums2[num2_index])\n",
    "            nums1.pop(last_index)\n",
    "            num2_index += 1\n",
    "            m += 1 \n",
    "\n",
    "            \n",
    "num1 = [1,2,3,0,0,0]\n",
    "m = 3\n",
    "num2 = [2,5,6]\n",
    "n = 3\n",
    "\n",
    "num1 = merge(num1, m, nums2, n)\n",
    "\n",
    "print(num1)\n",
    "\n",
    "        \n",
    "    \n",
    "        \n",
    "    "
   ]
  },
  {
   "cell_type": "code",
   "execution_count": null,
   "id": "f171bfcb-2e72-4c62-9015-4ae3792d6991",
   "metadata": {},
   "outputs": [],
   "source": [
    "# improving solutions\n"
   ]
  }
 ],
 "metadata": {
  "kernelspec": {
   "display_name": "Python 3 (ipykernel)",
   "language": "python",
   "name": "python3"
  },
  "language_info": {
   "codemirror_mode": {
    "name": "ipython",
    "version": 3
   },
   "file_extension": ".py",
   "mimetype": "text/x-python",
   "name": "python",
   "nbconvert_exporter": "python",
   "pygments_lexer": "ipython3",
   "version": "3.11.5"
  }
 },
 "nbformat": 4,
 "nbformat_minor": 5
}
