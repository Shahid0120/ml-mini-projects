{
 "cells": [
  {
   "cell_type": "code",
   "execution_count": 4,
   "id": "89e8bb80",
   "metadata": {},
   "outputs": [
    {
     "name": "stdout",
     "output_type": "stream",
     "text": [
      "8\n"
     ]
    }
   ],
   "source": [
    "# Creating a new arr\n",
    "def shuffle(nums, n):\n",
    "        idx = 0\n",
    "        new_arr = []\n",
    "        while idx < n:\n",
    "            new_arr.append(nums[idx])\n",
    "            new_arr.append(nums[idx + n])\n",
    "            idx += 1    \n",
    "        return new_arr\n",
    "    \n",
    "nums = [1,2,3,4,5,6,7,8]\n",
    "p = shuffle(nums)"
   ]
  },
  {
   "cell_type": "code",
   "execution_count": 2,
   "id": "29295c4e",
   "metadata": {},
   "outputs": [
    {
     "name": "stdout",
     "output_type": "stream",
     "text": [
      "None\n"
     ]
    }
   ],
   "source": [
    "# RESHUFFLING existing\n",
    "def shuffle(nums, n):\n",
    "    for i in range(n):\n",
    "        nums[i] = nums[i] << 10 \n",
    "        nums[i] = nums[i] | nums[i + n]\n",
    "\n",
    "    j = 2 * n - 1\n",
    "    for i in range(n - 1, -1, -1):\n",
    "        y = nums[i] & (2**10 - 1)\n",
    "        x = nums[i] >> 10\n",
    "\n",
    "        nums[j] = y\n",
    "        nums[j - 1] = x\n",
    "        j -= 2\n",
    "\n",
    "\n",
    "nums = [2,5,1,3,4,7]\n",
    "n = 3\n",
    "p = shuffle(nums, n)\n",
    "print(p)"
   ]
  },
  {
   "cell_type": "code",
   "execution_count": null,
   "id": "14214231",
   "metadata": {},
   "outputs": [],
   "source": []
  }
 ],
 "metadata": {
  "kernelspec": {
   "display_name": "Python 3 (ipykernel)",
   "language": "python",
   "name": "python3"
  },
  "language_info": {
   "codemirror_mode": {
    "name": "ipython",
    "version": 3
   },
   "file_extension": ".py",
   "mimetype": "text/x-python",
   "name": "python",
   "nbconvert_exporter": "python",
   "pygments_lexer": "ipython3",
   "version": "3.11.5"
  }
 },
 "nbformat": 4,
 "nbformat_minor": 5
}
