{
 "cells": [
  {
   "cell_type": "code",
   "execution_count": 15,
   "id": "cbae7bba",
   "metadata": {},
   "outputs": [
    {
     "name": "stdout",
     "output_type": "stream",
     "text": [
      "[1, 0, 1, 0]\n",
      "Sum of bits: 2\n"
     ]
    }
   ],
   "source": [
    "\n",
    "k = 3       \n",
    "nums = 10\n",
    "binary_representation = bin(nums)[2:]\n",
    "binary_list = [int(bit) for bit in binary_representation]\n",
    "print(binary_list)\n",
    "\n",
    "sum_bits = 0\n",
    "for bit in binary_list:\n",
    "    sum_bits += bit\n",
    "\n",
    "print(\"Sum of bits:\", sum_bits)\n"
   ]
  },
  {
   "cell_type": "code",
   "execution_count": 28,
   "id": "21c46b1c",
   "metadata": {},
   "outputs": [
    {
     "name": "stdout",
     "output_type": "stream",
     "text": [
      "[1, 0, 0]\n",
      "1\n",
      "[1, 1]\n",
      "2\n",
      "3\n",
      "[1, 0]\n",
      "1\n",
      "[1]\n",
      "1\n"
     ]
    }
   ],
   "source": [
    "def sumIndicesWithKSetBits(nums, k):\n",
    "        \n",
    "        overall_sum = 0\n",
    "\n",
    "        for idx in range(len(nums)):\n",
    "            binary_representation = bin(nums[idx])[2:]\n",
    "            binary_representation_list = [int(bit) for bit in binary_representation]\n",
    "            print(binary_representation_list)\n",
    "\n",
    "            bit_sum = 0\n",
    "            for bit in binary_representation_list:\n",
    "                bit_sum += bit\n",
    "            \n",
    "            print(bit_sum)\n",
    "\n",
    "            if bit_sum == k:\n",
    "                print(nums[idx])\n",
    "                overall_sum += nums[idx]\n",
    "\n",
    "        return overall_sum\n",
    "nums = [4,3,2,1]\n",
    "k = 2\n",
    "p = sumIndicesWithKSetBits(nums, k)\n",
    "# print(p)"
   ]
  },
  {
   "cell_type": "code",
   "execution_count": 32,
   "id": "5a885575",
   "metadata": {},
   "outputs": [
    {
     "name": "stdout",
     "output_type": "stream",
     "text": [
      "[0]\n",
      "0\n",
      "[1]\n",
      "1\n",
      "[1, 0]\n",
      "1\n",
      "[1, 1]\n",
      "2\n",
      "1\n",
      "1\n"
     ]
    }
   ],
   "source": [
    "def sumIndicesWithKSetBits(nums, k):\n",
    "        \n",
    "        overall_sum = 0\n",
    "\n",
    "        for i in range(len(nums)):\n",
    "            \n",
    "            binary_representation = bin(i)[2:]\n",
    "            binary_representation_list = [int(bit) for bit in binary_representation]\n",
    "            print(binary_representation_list)\n",
    "\n",
    "            bit_sum = 0\n",
    "            for bit in binary_representation_list:\n",
    "                bit_sum += bit\n",
    "            \n",
    "            print(bit_sum)\n",
    "\n",
    "            if bit_sum == k:\n",
    "                print(nums[i])\n",
    "                overall_sum += nums[i]\n",
    "\n",
    "        return overall_sum\n",
    "nums = [4,3,2,1]\n",
    "k = 2\n",
    "p = sumIndicesWithKSetBits(nums, k)\n",
    "print(p)"
   ]
  },
  {
   "cell_type": "code",
   "execution_count": null,
   "id": "b0dec578",
   "metadata": {},
   "outputs": [],
   "source": [
    "# redo with bit manmipulation \n",
    " def sumIndicesWithKSetBits(self, nums: List[int], k: int) -> int: \n",
    "        overall_sum = 0\n",
    "        for idx in range(len(nums)):\n",
    "            c = 0\n",
    "            copy = idx\n",
    "            while copy > 0:\n",
    "                c += copy & 1\n",
    "                copy >>= 1\n",
    "            if c == k:\n",
    "                overall_sum += nums[idx]\n",
    "        return overall_sum"
   ]
  }
 ],
 "metadata": {
  "kernelspec": {
   "display_name": "Python 3 (ipykernel)",
   "language": "python",
   "name": "python3"
  },
  "language_info": {
   "codemirror_mode": {
    "name": "ipython",
    "version": 3
   },
   "file_extension": ".py",
   "mimetype": "text/x-python",
   "name": "python",
   "nbconvert_exporter": "python",
   "pygments_lexer": "ipython3",
   "version": "3.11.5"
  }
 },
 "nbformat": 4,
 "nbformat_minor": 5
}
