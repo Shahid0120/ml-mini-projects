{
 "cells": [
  {
   "cell_type": "code",
   "execution_count": 10,
   "id": "015b117c",
   "metadata": {},
   "outputs": [
    {
     "name": "stdout",
     "output_type": "stream",
     "text": [
      "false\n"
     ]
    }
   ],
   "source": [
    "def containsDuplicate(nums):\n",
    "        hashtable = {} \n",
    "        for idx in range(0 , len(nums)):\n",
    "            if nums[idx] in hashtable:\n",
    "                return True\n",
    "            else:\n",
    "                hashtable[nums[idx]] = True;\n",
    "                \n",
    "        return False\n",
    "\n",
    "nums = [1,2,3,4]\n",
    "holder = containsDuplicate(nums)\n",
    "print(holder)\n"
   ]
  },
  {
   "cell_type": "code",
   "execution_count": null,
   "id": "f162da9b",
   "metadata": {},
   "outputs": [],
   "source": []
  }
 ],
 "metadata": {
  "kernelspec": {
   "display_name": "Python 3 (ipykernel)",
   "language": "python",
   "name": "python3"
  },
  "language_info": {
   "codemirror_mode": {
    "name": "ipython",
    "version": 3
   },
   "file_extension": ".py",
   "mimetype": "text/x-python",
   "name": "python",
   "nbconvert_exporter": "python",
   "pygments_lexer": "ipython3",
   "version": "3.11.5"
  }
 },
 "nbformat": 4,
 "nbformat_minor": 5
}
