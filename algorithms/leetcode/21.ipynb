{
 "cells": [
  {
   "cell_type": "code",
   "execution_count": 18,
   "id": "6ede84de-3435-4283-8608-2a634e1c48a7",
   "metadata": {
    "tags": []
   },
   "outputs": [
    {
     "ename": "TypeError",
     "evalue": "ListNode.__init__() takes from 1 to 3 positional arguments but 4 were given",
     "output_type": "error",
     "traceback": [
      "\u001b[0;31m---------------------------------------------------------------------------\u001b[0m",
      "\u001b[0;31mTypeError\u001b[0m                                 Traceback (most recent call last)",
      "Cell \u001b[0;32mIn[18], line 44\u001b[0m\n\u001b[1;32m     37\u001b[0m         \u001b[38;5;28;01mreturn\u001b[39;00m solution_ll\u001b[38;5;241m.\u001b[39mnext\n\u001b[1;32m     43\u001b[0m \u001b[38;5;66;03m# Creating linked list for list1: [1, 2, 4]\u001b[39;00m\n\u001b[0;32m---> 44\u001b[0m list1 \u001b[38;5;241m=\u001b[39m ListNode(ListNode(\u001b[38;5;241m1\u001b[39m) , ListNode(\u001b[38;5;241m2\u001b[39m) , ListNode(\u001b[38;5;241m4\u001b[39m))\n\u001b[1;32m     46\u001b[0m \u001b[38;5;66;03m# Creating linked list for list2: [1, 3, 4]\u001b[39;00m\n\u001b[1;32m     47\u001b[0m list2 \u001b[38;5;241m=\u001b[39m ListNode(\u001b[38;5;241m1\u001b[39m, ListNode(\u001b[38;5;241m3\u001b[39m, ListNode(\u001b[38;5;241m4\u001b[39m)))\n",
      "\u001b[0;31mTypeError\u001b[0m: ListNode.__init__() takes from 1 to 3 positional arguments but 4 were given"
     ]
    }
   ],
   "source": [
    "# Definition for singly-linked list.\n",
    "class ListNode:\n",
    "     def __init__(self, val=0, next=None):\n",
    "         self.val = val\n",
    "         self.next = next            \n",
    "        \n",
    "class Solution:\n",
    "    \n",
    "    def mergeTwoLists(self, list1: ListNode, list2: ListNode):\n",
    "        # Create a new linked list \n",
    "        solution_ll = ListNode()\n",
    "        current = solution_ll\n",
    "        list1.next\n",
    "        return list1.val\n",
    "        while list1 is not None and list2 is not None:\n",
    "            if list1.val < list2.val:\n",
    "                current.next = list1.val\n",
    "                list1 = list1.next\n",
    "            elif list1.val > list2.val:\n",
    "                current.next = list2.val\n",
    "                list2 = list2.next\n",
    "            else:  # If both values are equal, append both nodes\n",
    "                current.next = list1\n",
    "                current = current.next\n",
    "                current.next = list2.val\n",
    "                list1 = list1.next\n",
    "                list2 = list2.next\n",
    "            \n",
    "            current = current.next\n",
    "        \n",
    "        # Append the remaining nodes from list1 or list2 (if any)\n",
    "        if list1 is not None:\n",
    "            current.next = list1\n",
    "        elif list2 is not None:\n",
    "            current.next = list2\n",
    "        \n",
    "        return solution_ll.next\n",
    " \n",
    "            \n",
    "        \n",
    "    \n",
    "    \n",
    "# Creating linked list for list1: [1, 2, 4]\n",
    "list1 = ListNode(ListNode(1) , ListNode(2) , ListNode(4))\n",
    "\n",
    "# Creating linked list for list2: [1, 3, 4]\n",
    "list2 = ListNode(1, ListNode(3, ListNode(4)))\n",
    "    \n",
    "    \n",
    "solution_instance = Solution()\n",
    "solution_linked_list = solution_instance.mergeTwoLists(list1, list2)\n",
    "\n",
    "print(solution_linked_list)"
   ]
  },
  {
   "cell_type": "code",
   "execution_count": null,
   "id": "080fdf8c-e5cc-41f7-8a0a-e04029305af1",
   "metadata": {},
   "outputs": [],
   "source": []
  }
 ],
 "metadata": {
  "kernelspec": {
   "display_name": "Python 3 (ipykernel)",
   "language": "python",
   "name": "python3"
  },
  "language_info": {
   "codemirror_mode": {
    "name": "ipython",
    "version": 3
   },
   "file_extension": ".py",
   "mimetype": "text/x-python",
   "name": "python",
   "nbconvert_exporter": "python",
   "pygments_lexer": "ipython3",
   "version": "3.11.5"
  }
 },
 "nbformat": 4,
 "nbformat_minor": 5
}
