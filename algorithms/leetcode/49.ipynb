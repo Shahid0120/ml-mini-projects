{
 "cells": [
  {
   "cell_type": "code",
   "execution_count": 4,
   "id": "70982999",
   "metadata": {},
   "outputs": [
    {
     "name": "stdout",
     "output_type": "stream",
     "text": [
      "eat\n",
      "tea\n",
      "tan\n",
      "ate\n",
      "nat\n",
      "bat\n",
      "\n"
     ]
    }
   ],
   "source": [
    "def groupAnagrams(strs):\n",
    "    hashmap ={} \n",
    "    for string in strs:\n",
    "        print(string)\n",
    "\n",
    "strs = [\"eat\",\"tea\",\"tan\",\"ate\",\"nat\",\"bat\"]\n",
    "a = groupAnagrams(strs)\n",
    "print()"
   ]
  },
  {
   "cell_type": "code",
   "execution_count": null,
   "id": "bd933952",
   "metadata": {},
   "outputs": [],
   "source": []
  }
 ],
 "metadata": {
  "kernelspec": {
   "display_name": "Python 3 (ipykernel)",
   "language": "python",
   "name": "python3"
  },
  "language_info": {
   "codemirror_mode": {
    "name": "ipython",
    "version": 3
   },
   "file_extension": ".py",
   "mimetype": "text/x-python",
   "name": "python",
   "nbconvert_exporter": "python",
   "pygments_lexer": "ipython3",
   "version": "3.11.5"
  }
 },
 "nbformat": 4,
 "nbformat_minor": 5
}
