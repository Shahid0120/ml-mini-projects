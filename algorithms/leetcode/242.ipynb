{
 "cells": [
  {
   "cell_type": "code",
   "execution_count": 47,
   "id": "7e856cff",
   "metadata": {},
   "outputs": [
    {
     "name": "stdout",
     "output_type": "stream",
     "text": [
      "{'a': 1, 'b': 1}\n",
      "True\n"
     ]
    }
   ],
   "source": [
    "def isAnagram(s: str, t: str):\n",
    "    hashmap = dict() \n",
    "    for char in s:\n",
    "        if char in hashmap :\n",
    "            hashmap[char] += 1\n",
    "        else:\n",
    "            hashmap[char] = 1\n",
    "    print(hashmap)\n",
    "    for char in t:\n",
    "        if hashmap.get(char) == 0:\n",
    "            return False\n",
    "        else:\n",
    "            hashmap[char] -= 1\n",
    "    \n",
    "    return not any(hashmap.values())\n",
    "s = 'ab'\n",
    "t = 'ab'\n",
    "hashmap = isAnagram(s, t)\n",
    "print(hashmap)"
   ]
  },
  {
   "cell_type": "code",
   "execution_count": null,
   "id": "39b74991",
   "metadata": {},
   "outputs": [],
   "source": []
  }
 ],
 "metadata": {
  "kernelspec": {
   "display_name": "Python 3 (ipykernel)",
   "language": "python",
   "name": "python3"
  },
  "language_info": {
   "codemirror_mode": {
    "name": "ipython",
    "version": 3
   },
   "file_extension": ".py",
   "mimetype": "text/x-python",
   "name": "python",
   "nbconvert_exporter": "python",
   "pygments_lexer": "ipython3",
   "version": "3.11.5"
  }
 },
 "nbformat": 4,
 "nbformat_minor": 5
}
